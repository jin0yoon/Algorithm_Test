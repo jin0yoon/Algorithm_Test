{
 "cells": [
  {
   "cell_type": "markdown",
   "metadata": {},
   "source": [
    "## 문제 : n명의 사람 이름 중에서 같은 이름을 찾아 집합으로 만들어 돌려주는 알고리즘"
   ]
  },
  {
   "cell_type": "code",
   "execution_count": 2,
   "metadata": {},
   "outputs": [
    {
     "data": {
      "text/plain": [
       "True"
      ]
     },
     "execution_count": 2,
     "metadata": {},
     "output_type": "execute_result"
    }
   ],
   "source": [
    "# 집합은 리스트와 같이 정보를 여러 개 넣어서 보관할 수 있는 파이썬의 기능\n",
    "# 집합 하나에는 같은 자료가 중복되어 들어가지 않고, 자료의 순서도 의미가 없음\n",
    "\n",
    "# 집합 사용법\n",
    "\n",
    "s = set()\n",
    "s.add(1)\n",
    "s.add(2)\n",
    "s.add(2)\n",
    "\n",
    "s\n",
    "len(s)\n",
    "{1, 2} == {2, 1}"
   ]
  },
  {
   "cell_type": "markdown",
   "metadata": {},
   "source": [
    "## 알고리즘\n",
    "\n",
    "### 입력 : {\"Tom\", \"Jerry\", \"Mike\", \"Tom\"}\n",
    "\n",
    "### 1. 첫 번째 Tom을 뒤에 있는 Jerry, Mike, Tom과 차례로 비교한다.\n",
    "### 2. 첫 번째 Tom과 마지막 Tom이 같으므로 동명이인이다. (동명이인 : Tom)\n",
    "### 3. 두 번째 Jerry를 뒤에 있는 Mike, Tom과 비교한다. (앞에 있는 Tom과는 이미 비교했음)\n",
    "### 4. 세 번째 Mike를 뒤에 있는 Tom과 비교한다.\n",
    "### 5. 마지막 Tom은 비교하지 않아도 된다. (앞에서 이미 비교했으므로)\n",
    "### 6. 같은 이름은 Tom 하나뿐이다.\n",
    "\n",
    "## 주의할 점\n",
    "### 1. 이번에 비교할 이름을 뽑은 다음에는 뽑은 이름보다 순서상 뒤에 있는 이름하고만 비교하면 된다. 자기 자신과 비교하는 것은 무의미하고, 앞에 있는 이름과는 이미 비교가 끝났기 때문에\n",
    "### 2. 리스트의 마지막 이름을 기준으로는 비교하지 않아도 된다. 자신의 뒤에는 비교할 이름이 없고, 앞과는 이미 비교가 끝났기 때문에\n",
    "### 3. 같은 이름을 찾으면 결과 집합에 그 이름을 추가한다."
   ]
  },
  {
   "cell_type": "code",
   "execution_count": 8,
   "metadata": {},
   "outputs": [
    {
     "name": "stdout",
     "output_type": "stream",
     "text": [
      "{'Tom'}\n",
      "{'Tom', 'Mike'}\n"
     ]
    }
   ],
   "source": [
    "def same_name(a):\n",
    "    count = len(a)\n",
    "    s2 = set()\n",
    "    for i in range (0, count-1):\n",
    "        for j in range (i+1, count):\n",
    "            if a[i] == a[j]:\n",
    "                s2.add(a[i])\n",
    "    return s2\n",
    "\n",
    "v = [\"Tom\", \"Jerry\", \"Mike\", \"Tom\"]\n",
    "print(same_name(v))"
   ]
  },
  {
   "cell_type": "code",
   "execution_count": 7,
   "metadata": {},
   "outputs": [
    {
     "name": "stdout",
     "output_type": "stream",
     "text": [
      "{'Tom'}\n",
      "{'Tom', 'Mike'}\n"
     ]
    }
   ],
   "source": [
    "#풀이\n",
    "# 두 번 이상 나온 이름 찾기\n",
    "# 입력 : 이름이 n개가 들어있는 리스트\n",
    "# 출력 : 이름 n개 중 반복되는 이름의 집합\n",
    "\n",
    "def find_same_name(a):\n",
    "    n = len(a)                     #리스트의 자료 개수를 n에 저장\n",
    "    result = set()                 #결과를 저장할 빈 집합\n",
    "    for i in range(0, n-1):        #0부터 n-2까지 반복\n",
    "        for j in range(i+1, n):    #i+1부터 n-1까지 반복\n",
    "            if a[i] == a[j]:       #이름이 같으면\n",
    "                result.add(a[i])   #찾은 이름을 result에 추가\n",
    "    return result\n",
    "\n",
    "name = [\"Tom\", \"Jerry\", \"Mike\", \"Tom\"]  #대소문자 유의 : 파이썬은 대소문자를 구분함\n",
    "print(find_same_name(name))\n",
    "name2 = [\"Tom\", \"Jerry\", \"Mike\", \"Tom\", \"Mike\"]\n",
    "print(find_same_name(name2))"
   ]
  },
  {
   "cell_type": "markdown",
   "metadata": {},
   "source": [
    "### 알고리즘 분석\n",
    "#### 계산 복잡도 : O(n**2)\n",
    "    1+2+3+ ... + (n-1) = (n-1)(n-1+1)/2 = n(n-1)/2 = 1/2*n**2-1/2*n"
   ]
  }
 ],
 "metadata": {
  "kernelspec": {
   "display_name": "Python 3",
   "language": "python",
   "name": "python3"
  },
  "language_info": {
   "codemirror_mode": {
    "name": "ipython",
    "version": 3
   },
   "file_extension": ".py",
   "mimetype": "text/x-python",
   "name": "python",
   "nbconvert_exporter": "python",
   "pygments_lexer": "ipython3",
   "version": "3.8.3"
  }
 },
 "nbformat": 4,
 "nbformat_minor": 4
}
