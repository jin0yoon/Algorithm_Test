{
 "cells": [
  {
   "cell_type": "markdown",
   "metadata": {},
   "source": [
    "## 문제 : 1부터 n까지 연속한 정수의 합을 구하는 알고리즘을 만들어 보세요."
   ]
  },
  {
   "cell_type": "markdown",
   "metadata": {},
   "source": [
    "###      n (입력)      ->   1부터 n까지의 합을 구하는 절차 (알고리즘)    ->   1부터 n까지의 합 (출력)"
   ]
  },
  {
   "cell_type": "markdown",
   "metadata": {},
   "source": [
    "## 알고리즘\n",
    "\n",
    "### 1. 합을 기록할 변수 s를 만들고 0을 저장한다.\n",
    "### 2. 변수 i를 만들어 1부터 n까지의 숫자를 1씩 증가시키며 반복한다.\n",
    "### 3. [반복 블록] 기존의 s에 i를 더하여 얻은 값을 다시 s에 저장한다.\n",
    "### 4. 반복이 끝났을 때 s에 저장된 값이 결과값이다."
   ]
  },
  {
   "cell_type": "code",
   "execution_count": 14,
   "metadata": {},
   "outputs": [
    {
     "name": "stdout",
     "output_type": "stream",
     "text": [
      "55\n",
      "5050\n"
     ]
    }
   ],
   "source": [
    "# 1부터 n까지 연속한 숫자의 합을 구하는 알고리즘 1\n",
    "# 입력 : n\n",
    "# 출력 : 1부터 n까지의 숫자를 더한 값\n",
    "\n",
    "def sum_n(n):\n",
    "    s = 0                     # 합을 계산할 변수\n",
    "    for i in range(1, n+1):   # 1부터 n까지 반복 (n+1은 제외)\n",
    "        s += i\n",
    "    return s\n",
    "\n",
    "print(sum_n(10))\n",
    "print(sum_n(100))"
   ]
  },
  {
   "cell_type": "code",
   "execution_count": 13,
   "metadata": {},
   "outputs": [
    {
     "name": "stdout",
     "output_type": "stream",
     "text": [
      "55\n",
      "5050\n"
     ]
    }
   ],
   "source": [
    "# 1부터 n까지 연속한 숫자의 합을 구하는 알고리즘 2 (가우스)\n",
    "# 입력 : n\n",
    "# 출력 : 1부터 n까지의 숫자를 더한 값\n",
    "\n",
    "def sum_n2(n):\n",
    "    return n * (n+1) // 2\n",
    "\n",
    "print(sum_n2(10))\n",
    "print(sum_n2(100))"
   ]
  }
 ],
 "metadata": {
  "kernelspec": {
   "display_name": "Python 3",
   "language": "python",
   "name": "python3"
  },
  "language_info": {
   "codemirror_mode": {
    "name": "ipython",
    "version": 3
   },
   "file_extension": ".py",
   "mimetype": "text/x-python",
   "name": "python",
   "nbconvert_exporter": "python",
   "pygments_lexer": "ipython3",
   "version": "3.8.3"
  }
 },
 "nbformat": 4,
 "nbformat_minor": 4
}
