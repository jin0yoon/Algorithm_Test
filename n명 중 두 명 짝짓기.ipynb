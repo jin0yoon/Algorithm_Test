{
 "cells": [
  {
   "cell_type": "markdown",
   "metadata": {},
   "source": [
    "## 문제 : n명 중 두 명을 뽑아 짝을 짓는다고 할 때 짝을 지을 수 있는 모든 조합을 출력하는 알고리즘"
   ]
  },
  {
   "cell_type": "markdown",
   "metadata": {},
   "source": [
    "## 알고리즘\n",
    "\n",
    "### 1. 첫 번째 사람은 뒤의 모두와 짝을 짓는다.\n",
    "### 2. 쌍들을 리스트에 저장한다.\n",
    "### 3. 두 번째 사람도 뒤의 모두와 짝을 짓는다. (첫 번째 사람과는 이미 짝을 지었으므로 제외)\n",
    "### 4. 쌍들을 리스트에 저장한다.\n",
    "### 5. 이 과정을 n-1번째의 사람까지 반복한다. (마지막 사람은 이미 모두와 짝을 지었으므로)"
   ]
  },
  {
   "cell_type": "code",
   "execution_count": 4,
   "metadata": {},
   "outputs": [
    {
     "name": "stdout",
     "output_type": "stream",
     "text": [
      "{'JerryMike', 'TomMike', 'TomJerry'}\n"
     ]
    }
   ],
   "source": [
    "def find_mix(a):\n",
    "    count = len(a)\n",
    "    result = set()\n",
    "    for i in range (0, count-1):\n",
    "        for j in range (i+1, count):\n",
    "            result.add(a[i]+a[j])\n",
    "    return result\n",
    "\n",
    "name = [\"Tom\", \"Jerry\", \"Mike\"]\n",
    "print(find_mix(name))"
   ]
  },
  {
   "cell_type": "code",
   "execution_count": null,
   "metadata": {},
   "outputs": [],
   "source": []
  }
 ],
 "metadata": {
  "kernelspec": {
   "display_name": "Python 3",
   "language": "python",
   "name": "python3"
  },
  "language_info": {
   "codemirror_mode": {
    "name": "ipython",
    "version": 3
   },
   "file_extension": ".py",
   "mimetype": "text/x-python",
   "name": "python",
   "nbconvert_exporter": "python",
   "pygments_lexer": "ipython3",
   "version": "3.8.3"
  }
 },
 "nbformat": 4,
 "nbformat_minor": 4
}
