{
 "cells": [
  {
   "cell_type": "markdown",
   "metadata": {},
   "source": [
    "## 알고리즘\n",
    "\n",
    "### 1. a가 0보다 크거나 같은지 확인한다. 만약 그렇다면 a를 결과로 돌려준다.\n",
    "### 2. 1의 경우가 아니라면 (a가 0보다 작으면) -a를 결과로 돌려준다."
   ]
  },
  {
   "cell_type": "code",
   "execution_count": 1,
   "metadata": {},
   "outputs": [],
   "source": [
    "import math\n",
    "\n",
    "#절댓값 알고리즘 1 : 부호 판단\n",
    "#입력 : 실수 a\n",
    "#출력 : a의 절댓값\n",
    "\n",
    "def abs_sign(a):\n",
    "    if a >= 0:\n",
    "        return a\n",
    "    else:\n",
    "        return -a\n",
    "    \n",
    "\n",
    "#절댓값 알고리즘 2 : 제곱-제곱근\n",
    "#입력 : 실수 a\n",
    "#출력 : a의 절댓값\n",
    "\n",
    "def abs_square(a):\n",
    "    b = a * a\n",
    "    return math.sqrt(b)  #math 모듈의 제곱근 함수\n"
   ]
  },
  {
   "cell_type": "code",
   "execution_count": 2,
   "metadata": {},
   "outputs": [
    {
     "name": "stdout",
     "output_type": "stream",
     "text": [
      "5\n",
      "3\n",
      "\n",
      "5.0\n",
      "3.0\n"
     ]
    }
   ],
   "source": [
    "print(abs_sign(5))\n",
    "print(abs_sign(-3))\n",
    "print()\n",
    "print(abs_square(5))\n",
    "print(abs_square(-3))"
   ]
  }
 ],
 "metadata": {
  "kernelspec": {
   "display_name": "Python 3",
   "language": "python",
   "name": "python3"
  },
  "language_info": {
   "codemirror_mode": {
    "name": "ipython",
    "version": 3
   },
   "file_extension": ".py",
   "mimetype": "text/x-python",
   "name": "python",
   "nbconvert_exporter": "python",
   "pygments_lexer": "ipython3",
   "version": "3.8.3"
  }
 },
 "nbformat": 4,
 "nbformat_minor": 4
}
