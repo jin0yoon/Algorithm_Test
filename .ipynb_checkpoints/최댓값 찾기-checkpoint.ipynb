{
 "cells": [
  {
   "cell_type": "markdown",
   "metadata": {},
   "source": [
    "## 문제 : 주어진 숫자 n개 중 가장 큰 숫자를 찾는 알고리즘 만들기"
   ]
  },
  {
   "cell_type": "code",
   "execution_count": 5,
   "metadata": {},
   "outputs": [
    {
     "name": "stdout",
     "output_type": "stream",
     "text": [
      "92\n"
     ]
    }
   ],
   "source": [
    "def large_num(a):\n",
    "    count = len(a)\n",
    "    large = a[0]\n",
    "    for i in range (1, count):\n",
    "        if large < a[i]:\n",
    "            large = a[i]\n",
    "    return large\n",
    "\n",
    "v = [17, 92, 18, 33, 58, 7, 33, 42]\n",
    "print(large_num(v))"
   ]
  },
  {
   "cell_type": "markdown",
   "metadata": {},
   "source": [
    "## 알고리즘\n",
    "\n",
    "### 1. 첫 번째 숫자 17을 최댓값으로 기억한다. (최댓값 : 17)\n",
    "### 2. 두 번째 숫자 92를 현재 최댓값 17과 비교한다. 92는 17보다 크므로 최댓값을 92로 바꿔 기억한다. (최댓값 : 92)\n",
    "### 3. 세 번째 숫자 18을 현재 최댓값 92와 비교한다. 18은 92보다 작으므로 지나간다. (최댓값 : 92)\n",
    "### 4. 네 번째 숫자부터 일곱 번째 숫자까지 같은 과정 반복\n",
    "### 5. 마지막 숫자 42를 현재 최댓값 92와 비교한다. 42는 92보다 작으므로 지나간다. (최댓값 : 92)\n",
    "### 6. 마지막으로 기억된 92가 주어진 숫자 중 최댓값이다."
   ]
  },
  {
   "cell_type": "code",
   "execution_count": 7,
   "metadata": {},
   "outputs": [
    {
     "name": "stdout",
     "output_type": "stream",
     "text": [
      "92\n"
     ]
    }
   ],
   "source": [
    "# 예제 소스\n",
    "\n",
    "#최댓값 구하기\n",
    "#입력 : 숫자가 n개 들어있는 리스트\n",
    "#출력 : 숫자 n개 중 최댓값\n",
    "\n",
    "def find_max(a):\n",
    "    n = len(a)\n",
    "    max_v = a[0]\n",
    "    for i in range(1,n):\n",
    "        if a[i] > max_v:\n",
    "            max_v = a[i]\n",
    "    return max_v\n",
    "\n",
    "v = [17, 92, 18, 33, 58, 7, 33, 42]\n",
    "print(find_max(v))"
   ]
  },
  {
   "cell_type": "markdown",
   "metadata": {},
   "source": [
    "### 알고리즘 분석\n",
    "\n",
    "### 계산 복잡도 : O(n)\n",
    "    비교 계산이 n-1번 발생하지만 n이 굉장히 커질 때는 n번과 n-1번이 차이가 무의미하므로 O(n)으로 표기"
   ]
  },
  {
   "cell_type": "markdown",
   "metadata": {},
   "source": [
    "## 문제 : 리스트에 숫자가 n개 있을 때 가장 큰 값이 있는 위치 번호를 돌려주는 알고리즘"
   ]
  },
  {
   "cell_type": "code",
   "execution_count": 4,
   "metadata": {},
   "outputs": [
    {
     "name": "stdout",
     "output_type": "stream",
     "text": [
      "1\n"
     ]
    }
   ],
   "source": [
    "def find_max_num(a):\n",
    "    count = len(a)\n",
    "    max_num = 0\n",
    "    for i in range (1, count):\n",
    "        if a[i] > a[max_num]:\n",
    "            max_num = i\n",
    "    return max_num\n",
    "\n",
    "v = [17, 92, 18, 33, 58, 7, 33, 42]\n",
    "print (find_max_num(v))\n",
    "            "
   ]
  },
  {
   "cell_type": "code",
   "execution_count": null,
   "metadata": {},
   "outputs": [],
   "source": []
  }
 ],
 "metadata": {
  "kernelspec": {
   "display_name": "Python 3",
   "language": "python",
   "name": "python3"
  },
  "language_info": {
   "codemirror_mode": {
    "name": "ipython",
    "version": 3
   },
   "file_extension": ".py",
   "mimetype": "text/x-python",
   "name": "python",
   "nbconvert_exporter": "python",
   "pygments_lexer": "ipython3",
   "version": "3.8.3"
  }
 },
 "nbformat": 4,
 "nbformat_minor": 4
}
