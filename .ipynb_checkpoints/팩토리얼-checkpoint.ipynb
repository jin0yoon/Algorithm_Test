{
 "cells": [
  {
   "cell_type": "markdown",
   "metadata": {},
   "source": [
    "## 문제 : 1부터 n까지 연속한 정수의 곱을 구하는 알고리즘"
   ]
  },
  {
   "cell_type": "code",
   "execution_count": 1,
   "metadata": {},
   "outputs": [
    {
     "name": "stdout",
     "output_type": "stream",
     "text": [
      "3628800\n"
     ]
    }
   ],
   "source": [
    "# 연속한 숫자의 곱을 구하는 알고리즘\n",
    "# 입력 : n\n",
    "# 출력 : 1부터 n까지 연속한 숫자를 곱한 값\n",
    "\n",
    "def factorial(n):\n",
    "    sum = 1\n",
    "    for i in range (2, n+1):\n",
    "        sum *= i\n",
    "    return sum\n",
    "\n",
    "print(factorial(10))"
   ]
  },
  {
   "cell_type": "code",
   "execution_count": 2,
   "metadata": {},
   "outputs": [
    {
     "name": "stdout",
     "output_type": "stream",
     "text": [
      "1\n",
      "120\n",
      "3628800\n"
     ]
    }
   ],
   "source": [
    "#해설\n",
    "#연속한 숫자의 곱을 구하는 알고리즘\n",
    "#입력 : n\n",
    "#출력 : 1부터 n까지 연속한 숫자를 곱한 값\n",
    "\n",
    "def fact(n):\n",
    "    f = 1                          #곱을 계산할 변수, 초깃값은 1\n",
    "    for i in range(1, n+1):        #1부터 n까지 반복 (n+1은 제외)\n",
    "        f = f * i                  #곱셈 연산으로 수정\n",
    "    return f\n",
    "\n",
    "\n",
    "print(fact(1))\n",
    "print(fact(5))\n",
    "print(fact(10))"
   ]
  },
  {
   "cell_type": "code",
   "execution_count": null,
   "metadata": {},
   "outputs": [],
   "source": []
  }
 ],
 "metadata": {
  "kernelspec": {
   "display_name": "Python 3",
   "language": "python",
   "name": "python3"
  },
  "language_info": {
   "codemirror_mode": {
    "name": "ipython",
    "version": 3
   },
   "file_extension": ".py",
   "mimetype": "text/x-python",
   "name": "python",
   "nbconvert_exporter": "python",
   "pygments_lexer": "ipython3",
   "version": "3.8.3"
  }
 },
 "nbformat": 4,
 "nbformat_minor": 4
}
